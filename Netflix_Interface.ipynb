{
 "cells": [
  {
   "cell_type": "code",
   "execution_count": 1,
   "id": "bbfa68d1-2a24-43b9-bf9d-4fc1b6033704",
   "metadata": {},
   "outputs": [],
   "source": [
    "import joblib\n",
    "import numpy as np"
   ]
  },
  {
   "cell_type": "code",
   "execution_count": 2,
   "id": "cd83c367-033c-4f2b-b5ef-7a05c85decd3",
   "metadata": {},
   "outputs": [],
   "source": [
    "loaded_model = joblib.load('tuned_gradient_boosting_model.pk1')"
   ]
  },
  {
   "cell_type": "code",
   "execution_count": 3,
   "id": "2c2efdc9-8bf4-4e17-8654-4ec5c3c56e19",
   "metadata": {},
   "outputs": [],
   "source": [
    "user_input = np.array(int(input('Enter the imdb vote for Netflix : '))).reshape(-1,1)"
   ]
  },
  {
   "cell_type": "code",
   "execution_count": 4,
   "id": "d9db50c8-58d0-4da8-9111-91a7b11fe983",
   "metadata": {},
   "outputs": [],
   "source": [
    "prediction = loaded_model.predict(user_input)"
   ]
  },
  {
   "cell_type": "code",
   "execution_count": 5,
   "id": "fc10da94-4fd2-4cc6-96eb-9adb28c75a43",
   "metadata": {},
   "outputs": [
    {
     "name": "stdout",
     "output_type": "stream",
     "text": [
      "[6.78782318]\n"
     ]
    }
   ],
   "source": [
    "print(prediction)"
   ]
  },
  {
   "cell_type": "code",
   "execution_count": null,
   "id": "251a80b6-47e6-490b-8582-82c1a96af4d7",
   "metadata": {},
   "outputs": [],
   "source": []
  }
 ],
 "metadata": {
  "kernelspec": {
   "display_name": "Python 3 (ipykernel)",
   "language": "python",
   "name": "python3"
  },
  "language_info": {
   "codemirror_mode": {
    "name": "ipython",
    "version": 3
   },
   "file_extension": ".py",
   "mimetype": "text/x-python",
   "name": "python",
   "nbconvert_exporter": "python",
   "pygments_lexer": "ipython3",
   "version": "3.12.2"
  }
 },
 "nbformat": 4,
 "nbformat_minor": 5
}
